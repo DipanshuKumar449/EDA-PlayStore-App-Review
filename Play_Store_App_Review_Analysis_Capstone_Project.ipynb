{
  "nbformat": 4,
  "nbformat_minor": 0,
  "metadata": {
    "kernelspec": {
      "display_name": "Python 3",
      "language": "python",
      "name": "python3"
    },
    "language_info": {
      "codemirror_mode": {
        "name": "ipython",
        "version": 3
      },
      "file_extension": ".py",
      "mimetype": "text/x-python",
      "name": "python",
      "nbconvert_exporter": "python",
      "pygments_lexer": "ipython3",
      "version": "3.6.6"
    },
    "colab": {
      "provenance": [],
      "include_colab_link": true
    }
  },
  "cells": [
    {
      "cell_type": "markdown",
      "metadata": {
        "id": "view-in-github",
        "colab_type": "text"
      },
      "source": [
        "<a href=\"https://colab.research.google.com/github/DipanshuKumar449/EDA-PlayStore-App-Review/blob/main/Play_Store_App_Review_Analysis_Capstone_Project.ipynb\" target=\"_parent\"><img src=\"https://colab.research.google.com/assets/colab-badge.svg\" alt=\"Open In Colab\"/></a>"
      ]
    },
    {
      "cell_type": "markdown",
      "metadata": {
        "id": "Y06xIdG26kRF"
      },
      "source": [
        "## <b> The Play Store apps data has enormous potential to drive app-making businesses to success. Actionable insights can be drawn for developers to work on and capture the Android market. </b>\n",
        "\n",
        "## <b> Each app (row) has values for catergory, rating, size, and more. Another dataset contains customer reviews of the android apps.</b>\n",
        "\n",
        "## <b> Explore and analyze the data to discover key factors responsible for app engagement and success. </b>"
      ]
    },
    {
      "cell_type": "markdown",
      "source": [
        "## World of Apps"
      ],
      "metadata": {
        "id": "16mUqRRTjbwP"
      }
    },
    {
      "cell_type": "markdown",
      "source": [
        "No, doubt Mobile Applications are trending, ever wonder why?\n",
        "The reasons are well known:\n",
        "\n",
        "*   Makes life easy \n",
        "*   Apps are fun\n",
        "\n",
        "*   Communication and Engagement\n",
        "*   Smart marketing, Lead generations and many more."
      ],
      "metadata": {
        "id": "4J2vtWSTtyvE"
      }
    },
    {
      "cell_type": "markdown",
      "source": [
        "### Analyse Reviews"
      ],
      "metadata": {
        "id": "b338tlhHqD14"
      }
    },
    {
      "cell_type": "markdown",
      "source": [
        "Analysing reviews seriously, why is it even necessary?\n",
        "\n",
        ">The answer is quite simple..\n",
        "\n",
        "*   To help targeting the most impactful improvement to app,can view top trends and issues that the user mentions.\n",
        "*   Through comprehensive analysis of designated apps, optimizing the ratings and reviews maintains high reputation.\n",
        "*   1000+ 5-star ratings and high quality review contents have driven a lots of downloads, with massive percentage increase in conversion.\n",
        "\n",
        "\n",
        "\n",
        "\n",
        "\n"
      ],
      "metadata": {
        "id": "plPcZYf_makb"
      }
    },
    {
      "cell_type": "markdown",
      "source": [
        "Lets now deep dive into our data files:\n",
        "containing two files\n",
        "\n",
        "*  Play Store Data.csv : It consists of name of applications and a total of 13 features describing the app.\n",
        "*  User Reviews.csv : This file consists of 3 important features on how the use use feel regarding the app.\n",
        "\n"
      ],
      "metadata": {
        "id": "jAV918ckxXKs"
      }
    },
    {
      "cell_type": "markdown",
      "source": [
        "### Now let's kickstart the journey"
      ],
      "metadata": {
        "id": "NjqVtXP9Um6F"
      }
    },
    {
      "cell_type": "markdown",
      "source": [
        "## 1.Importing and Understanding the Dataset"
      ],
      "metadata": {
        "id": "FDPHCA16YPIt"
      }
    },
    {
      "cell_type": "code",
      "source": [
        "# importing all the necessary modules for the analysis\n",
        "\n",
        "import pandas as pd\n",
        "import matplotlib.pyplot as plt\n",
        "import seaborn as sns\n",
        "import numpy as np\n",
        "%matplotlib inline"
      ],
      "metadata": {
        "id": "tTvRcUKNU1Z6"
      },
      "execution_count": null,
      "outputs": []
    },
    {
      "cell_type": "code",
      "source": [
        "# Reading the dataset\n",
        "\n",
        "df_apps = pd.read_csv('/content/drive/MyDrive/Colab Notebooks/Capstone Projects/Exploratory Data Analysis/Play Store Data.csv')"
      ],
      "metadata": {
        "id": "bLn3IUP0V5SJ"
      },
      "execution_count": null,
      "outputs": []
    },
    {
      "cell_type": "code",
      "source": [
        "from google.colab import drive\n",
        "drive.mount('/content/drive')"
      ],
      "metadata": {
        "colab": {
          "base_uri": "https://localhost:8080/"
        },
        "id": "fxslEnvVWGG3",
        "outputId": "169b085a-0ad4-4730-9dce-48f98d1ea2e8"
      },
      "execution_count": null,
      "outputs": [
        {
          "output_type": "stream",
          "name": "stdout",
          "text": [
            "Drive already mounted at /content/drive; to attempt to forcibly remount, call drive.mount(\"/content/drive\", force_remount=True).\n"
          ]
        }
      ]
    },
    {
      "cell_type": "code",
      "source": [
        "df_apps.head(3)"
      ],
      "metadata": {
        "colab": {
          "base_uri": "https://localhost:8080/",
          "height": 257
        },
        "id": "gNXBcepvWsJi",
        "outputId": "ba1bef20-aba3-45c8-c732-3c431383011e"
      },
      "execution_count": null,
      "outputs": [
        {
          "output_type": "execute_result",
          "data": {
            "text/plain": [
              "                                                 App        Category  Rating  \\\n",
              "0     Photo Editor & Candy Camera & Grid & ScrapBook  ART_AND_DESIGN     4.1   \n",
              "1                                Coloring book moana  ART_AND_DESIGN     3.9   \n",
              "2  U Launcher Lite – FREE Live Cool Themes, Hide ...  ART_AND_DESIGN     4.7   \n",
              "\n",
              "  Reviews  Size    Installs  Type Price Content Rating  \\\n",
              "0     159   19M     10,000+  Free     0       Everyone   \n",
              "1     967   14M    500,000+  Free     0       Everyone   \n",
              "2   87510  8.7M  5,000,000+  Free     0       Everyone   \n",
              "\n",
              "                      Genres      Last Updated Current Ver   Android Ver  \n",
              "0               Art & Design   January 7, 2018       1.0.0  4.0.3 and up  \n",
              "1  Art & Design;Pretend Play  January 15, 2018       2.0.0  4.0.3 and up  \n",
              "2               Art & Design    August 1, 2018       1.2.4  4.0.3 and up  "
            ],
            "text/html": [
              "\n",
              "  <div id=\"df-8cc0ef00-8599-4298-9236-70fb408fb9de\">\n",
              "    <div class=\"colab-df-container\">\n",
              "      <div>\n",
              "<style scoped>\n",
              "    .dataframe tbody tr th:only-of-type {\n",
              "        vertical-align: middle;\n",
              "    }\n",
              "\n",
              "    .dataframe tbody tr th {\n",
              "        vertical-align: top;\n",
              "    }\n",
              "\n",
              "    .dataframe thead th {\n",
              "        text-align: right;\n",
              "    }\n",
              "</style>\n",
              "<table border=\"1\" class=\"dataframe\">\n",
              "  <thead>\n",
              "    <tr style=\"text-align: right;\">\n",
              "      <th></th>\n",
              "      <th>App</th>\n",
              "      <th>Category</th>\n",
              "      <th>Rating</th>\n",
              "      <th>Reviews</th>\n",
              "      <th>Size</th>\n",
              "      <th>Installs</th>\n",
              "      <th>Type</th>\n",
              "      <th>Price</th>\n",
              "      <th>Content Rating</th>\n",
              "      <th>Genres</th>\n",
              "      <th>Last Updated</th>\n",
              "      <th>Current Ver</th>\n",
              "      <th>Android Ver</th>\n",
              "    </tr>\n",
              "  </thead>\n",
              "  <tbody>\n",
              "    <tr>\n",
              "      <th>0</th>\n",
              "      <td>Photo Editor &amp; Candy Camera &amp; Grid &amp; ScrapBook</td>\n",
              "      <td>ART_AND_DESIGN</td>\n",
              "      <td>4.1</td>\n",
              "      <td>159</td>\n",
              "      <td>19M</td>\n",
              "      <td>10,000+</td>\n",
              "      <td>Free</td>\n",
              "      <td>0</td>\n",
              "      <td>Everyone</td>\n",
              "      <td>Art &amp; Design</td>\n",
              "      <td>January 7, 2018</td>\n",
              "      <td>1.0.0</td>\n",
              "      <td>4.0.3 and up</td>\n",
              "    </tr>\n",
              "    <tr>\n",
              "      <th>1</th>\n",
              "      <td>Coloring book moana</td>\n",
              "      <td>ART_AND_DESIGN</td>\n",
              "      <td>3.9</td>\n",
              "      <td>967</td>\n",
              "      <td>14M</td>\n",
              "      <td>500,000+</td>\n",
              "      <td>Free</td>\n",
              "      <td>0</td>\n",
              "      <td>Everyone</td>\n",
              "      <td>Art &amp; Design;Pretend Play</td>\n",
              "      <td>January 15, 2018</td>\n",
              "      <td>2.0.0</td>\n",
              "      <td>4.0.3 and up</td>\n",
              "    </tr>\n",
              "    <tr>\n",
              "      <th>2</th>\n",
              "      <td>U Launcher Lite – FREE Live Cool Themes, Hide ...</td>\n",
              "      <td>ART_AND_DESIGN</td>\n",
              "      <td>4.7</td>\n",
              "      <td>87510</td>\n",
              "      <td>8.7M</td>\n",
              "      <td>5,000,000+</td>\n",
              "      <td>Free</td>\n",
              "      <td>0</td>\n",
              "      <td>Everyone</td>\n",
              "      <td>Art &amp; Design</td>\n",
              "      <td>August 1, 2018</td>\n",
              "      <td>1.2.4</td>\n",
              "      <td>4.0.3 and up</td>\n",
              "    </tr>\n",
              "  </tbody>\n",
              "</table>\n",
              "</div>\n",
              "      <button class=\"colab-df-convert\" onclick=\"convertToInteractive('df-8cc0ef00-8599-4298-9236-70fb408fb9de')\"\n",
              "              title=\"Convert this dataframe to an interactive table.\"\n",
              "              style=\"display:none;\">\n",
              "        \n",
              "  <svg xmlns=\"http://www.w3.org/2000/svg\" height=\"24px\"viewBox=\"0 0 24 24\"\n",
              "       width=\"24px\">\n",
              "    <path d=\"M0 0h24v24H0V0z\" fill=\"none\"/>\n",
              "    <path d=\"M18.56 5.44l.94 2.06.94-2.06 2.06-.94-2.06-.94-.94-2.06-.94 2.06-2.06.94zm-11 1L8.5 8.5l.94-2.06 2.06-.94-2.06-.94L8.5 2.5l-.94 2.06-2.06.94zm10 10l.94 2.06.94-2.06 2.06-.94-2.06-.94-.94-2.06-.94 2.06-2.06.94z\"/><path d=\"M17.41 7.96l-1.37-1.37c-.4-.4-.92-.59-1.43-.59-.52 0-1.04.2-1.43.59L10.3 9.45l-7.72 7.72c-.78.78-.78 2.05 0 2.83L4 21.41c.39.39.9.59 1.41.59.51 0 1.02-.2 1.41-.59l7.78-7.78 2.81-2.81c.8-.78.8-2.07 0-2.86zM5.41 20L4 18.59l7.72-7.72 1.47 1.35L5.41 20z\"/>\n",
              "  </svg>\n",
              "      </button>\n",
              "      \n",
              "  <style>\n",
              "    .colab-df-container {\n",
              "      display:flex;\n",
              "      flex-wrap:wrap;\n",
              "      gap: 12px;\n",
              "    }\n",
              "\n",
              "    .colab-df-convert {\n",
              "      background-color: #E8F0FE;\n",
              "      border: none;\n",
              "      border-radius: 50%;\n",
              "      cursor: pointer;\n",
              "      display: none;\n",
              "      fill: #1967D2;\n",
              "      height: 32px;\n",
              "      padding: 0 0 0 0;\n",
              "      width: 32px;\n",
              "    }\n",
              "\n",
              "    .colab-df-convert:hover {\n",
              "      background-color: #E2EBFA;\n",
              "      box-shadow: 0px 1px 2px rgba(60, 64, 67, 0.3), 0px 1px 3px 1px rgba(60, 64, 67, 0.15);\n",
              "      fill: #174EA6;\n",
              "    }\n",
              "\n",
              "    [theme=dark] .colab-df-convert {\n",
              "      background-color: #3B4455;\n",
              "      fill: #D2E3FC;\n",
              "    }\n",
              "\n",
              "    [theme=dark] .colab-df-convert:hover {\n",
              "      background-color: #434B5C;\n",
              "      box-shadow: 0px 1px 3px 1px rgba(0, 0, 0, 0.15);\n",
              "      filter: drop-shadow(0px 1px 2px rgba(0, 0, 0, 0.3));\n",
              "      fill: #FFFFFF;\n",
              "    }\n",
              "  </style>\n",
              "\n",
              "      <script>\n",
              "        const buttonEl =\n",
              "          document.querySelector('#df-8cc0ef00-8599-4298-9236-70fb408fb9de button.colab-df-convert');\n",
              "        buttonEl.style.display =\n",
              "          google.colab.kernel.accessAllowed ? 'block' : 'none';\n",
              "\n",
              "        async function convertToInteractive(key) {\n",
              "          const element = document.querySelector('#df-8cc0ef00-8599-4298-9236-70fb408fb9de');\n",
              "          const dataTable =\n",
              "            await google.colab.kernel.invokeFunction('convertToInteractive',\n",
              "                                                     [key], {});\n",
              "          if (!dataTable) return;\n",
              "\n",
              "          const docLinkHtml = 'Like what you see? Visit the ' +\n",
              "            '<a target=\"_blank\" href=https://colab.research.google.com/notebooks/data_table.ipynb>data table notebook</a>'\n",
              "            + ' to learn more about interactive tables.';\n",
              "          element.innerHTML = '';\n",
              "          dataTable['output_type'] = 'display_data';\n",
              "          await google.colab.output.renderOutput(dataTable, element);\n",
              "          const docLink = document.createElement('div');\n",
              "          docLink.innerHTML = docLinkHtml;\n",
              "          element.appendChild(docLink);\n",
              "        }\n",
              "      </script>\n",
              "    </div>\n",
              "  </div>\n",
              "  "
            ]
          },
          "metadata": {},
          "execution_count": 56
        }
      ]
    },
    {
      "cell_type": "code",
      "source": [
        "# getting the shape\n",
        "df_apps.shape"
      ],
      "metadata": {
        "colab": {
          "base_uri": "https://localhost:8080/"
        },
        "id": "ICa6cwurW3wx",
        "outputId": "dfef3e05-23ab-4488-c718-e31e6b075cd2"
      },
      "execution_count": null,
      "outputs": [
        {
          "output_type": "execute_result",
          "data": {
            "text/plain": [
              "(10841, 13)"
            ]
          },
          "metadata": {},
          "execution_count": 57
        }
      ]
    },
    {
      "cell_type": "code",
      "source": [
        "# getting information for better understanding\n",
        "df_apps.info()"
      ],
      "metadata": {
        "colab": {
          "base_uri": "https://localhost:8080/"
        },
        "id": "YXg9bt4cXG8Q",
        "outputId": "649c6990-e9f5-4b1f-8868-3571a13ebd1d"
      },
      "execution_count": null,
      "outputs": [
        {
          "output_type": "stream",
          "name": "stdout",
          "text": [
            "<class 'pandas.core.frame.DataFrame'>\n",
            "RangeIndex: 10841 entries, 0 to 10840\n",
            "Data columns (total 13 columns):\n",
            " #   Column          Non-Null Count  Dtype  \n",
            "---  ------          --------------  -----  \n",
            " 0   App             10841 non-null  object \n",
            " 1   Category        10841 non-null  object \n",
            " 2   Rating          9367 non-null   float64\n",
            " 3   Reviews         10841 non-null  object \n",
            " 4   Size            10841 non-null  object \n",
            " 5   Installs        10841 non-null  object \n",
            " 6   Type            10840 non-null  object \n",
            " 7   Price           10841 non-null  object \n",
            " 8   Content Rating  10840 non-null  object \n",
            " 9   Genres          10841 non-null  object \n",
            " 10  Last Updated    10841 non-null  object \n",
            " 11  Current Ver     10833 non-null  object \n",
            " 12  Android Ver     10838 non-null  object \n",
            "dtypes: float64(1), object(12)\n",
            "memory usage: 1.1+ MB\n"
          ]
        }
      ]
    },
    {
      "cell_type": "markdown",
      "source": [
        "## 2.Data Cleaning"
      ],
      "metadata": {
        "id": "exQst8v0X968"
      }
    },
    {
      "cell_type": "markdown",
      "source": [
        "Incorrect, inconsitent data can lead to false conclusion and misdirects the scales.So, detecting and correcting of inaccurate records is necessary to maintain the flow."
      ],
      "metadata": {
        "id": "xdofuhmLYlYS"
      }
    },
    {
      "cell_type": "markdown",
      "source": [
        "\n",
        "\n",
        "*   After looking to the dataset the first thing comes in mind is that we have to \n",
        "deal with some special characters. Specifically some important features like Size, Install, Price contains characters like(' M ',' k ' ' , ' + ',' $ ') these column needs to be present in numerical form for furture analysis.\n",
        "*   So, Moving on to remove the special characters from the respective features(columns).\n",
        "\n",
        "\n",
        "*   While running the code one row i.e 10474 is a wrong feed so it need has to be removed\n",
        "\n",
        "\n",
        "> To acheive this we use drop function\n",
        "\n",
        "\n"
      ],
      "metadata": {
        "id": "--UekzBHZ-zb"
      }
    },
    {
      "cell_type": "code",
      "source": [
        "df_apps= df_apps.drop(10472)"
      ],
      "metadata": {
        "id": "Tt7vlVDnTBer"
      },
      "execution_count": null,
      "outputs": []
    },
    {
      "cell_type": "code",
      "source": [
        "# While running this code, it throughs Future warning to handle this we use import warnings\n",
        "\n",
        "import warnings\n",
        "warnings.simplefilter(action='ignore',category=FutureWarning)\n",
        "\n",
        "# Simply using replace method for this task\n",
        "\n",
        "# Working on column(install).\n",
        "# Removing '+' and ',' from it.\n",
        "\n",
        "df_apps['Size'] = df_apps['Size'].str.replace('M','').str.replace('k','')\n",
        "\n",
        "\n",
        "# Working on column(install).\n",
        "# Removing '+' and ',' from it.\n",
        "\n",
        "df_apps['Installs'] = df_apps['Installs'].str.replace('+','').str.replace(',','')\n",
        "\n",
        "# Working on column(price).\n",
        "# Removing '$' from it.\n",
        "\n",
        "df_apps['Price'] = df_apps['Price'].str.replace('$','')\n",
        "\n",
        "df_apps.head(3)"
      ],
      "metadata": {
        "colab": {
          "base_uri": "https://localhost:8080/",
          "height": 257
        },
        "id": "RHsWh6zPkuew",
        "outputId": "af920a97-81cf-40bc-d6ca-44497b55b40b"
      },
      "execution_count": null,
      "outputs": [
        {
          "output_type": "execute_result",
          "data": {
            "text/plain": [
              "                                                 App        Category  Rating  \\\n",
              "0     Photo Editor & Candy Camera & Grid & ScrapBook  ART_AND_DESIGN     4.1   \n",
              "1                                Coloring book moana  ART_AND_DESIGN     3.9   \n",
              "2  U Launcher Lite – FREE Live Cool Themes, Hide ...  ART_AND_DESIGN     4.7   \n",
              "\n",
              "  Reviews Size Installs  Type Price Content Rating                     Genres  \\\n",
              "0     159   19    10000  Free     0       Everyone               Art & Design   \n",
              "1     967   14   500000  Free     0       Everyone  Art & Design;Pretend Play   \n",
              "2   87510  8.7  5000000  Free     0       Everyone               Art & Design   \n",
              "\n",
              "       Last Updated Current Ver   Android Ver  \n",
              "0   January 7, 2018       1.0.0  4.0.3 and up  \n",
              "1  January 15, 2018       2.0.0  4.0.3 and up  \n",
              "2    August 1, 2018       1.2.4  4.0.3 and up  "
            ],
            "text/html": [
              "\n",
              "  <div id=\"df-e375076a-3556-4f3d-9e61-6bab78d59598\">\n",
              "    <div class=\"colab-df-container\">\n",
              "      <div>\n",
              "<style scoped>\n",
              "    .dataframe tbody tr th:only-of-type {\n",
              "        vertical-align: middle;\n",
              "    }\n",
              "\n",
              "    .dataframe tbody tr th {\n",
              "        vertical-align: top;\n",
              "    }\n",
              "\n",
              "    .dataframe thead th {\n",
              "        text-align: right;\n",
              "    }\n",
              "</style>\n",
              "<table border=\"1\" class=\"dataframe\">\n",
              "  <thead>\n",
              "    <tr style=\"text-align: right;\">\n",
              "      <th></th>\n",
              "      <th>App</th>\n",
              "      <th>Category</th>\n",
              "      <th>Rating</th>\n",
              "      <th>Reviews</th>\n",
              "      <th>Size</th>\n",
              "      <th>Installs</th>\n",
              "      <th>Type</th>\n",
              "      <th>Price</th>\n",
              "      <th>Content Rating</th>\n",
              "      <th>Genres</th>\n",
              "      <th>Last Updated</th>\n",
              "      <th>Current Ver</th>\n",
              "      <th>Android Ver</th>\n",
              "    </tr>\n",
              "  </thead>\n",
              "  <tbody>\n",
              "    <tr>\n",
              "      <th>0</th>\n",
              "      <td>Photo Editor &amp; Candy Camera &amp; Grid &amp; ScrapBook</td>\n",
              "      <td>ART_AND_DESIGN</td>\n",
              "      <td>4.1</td>\n",
              "      <td>159</td>\n",
              "      <td>19</td>\n",
              "      <td>10000</td>\n",
              "      <td>Free</td>\n",
              "      <td>0</td>\n",
              "      <td>Everyone</td>\n",
              "      <td>Art &amp; Design</td>\n",
              "      <td>January 7, 2018</td>\n",
              "      <td>1.0.0</td>\n",
              "      <td>4.0.3 and up</td>\n",
              "    </tr>\n",
              "    <tr>\n",
              "      <th>1</th>\n",
              "      <td>Coloring book moana</td>\n",
              "      <td>ART_AND_DESIGN</td>\n",
              "      <td>3.9</td>\n",
              "      <td>967</td>\n",
              "      <td>14</td>\n",
              "      <td>500000</td>\n",
              "      <td>Free</td>\n",
              "      <td>0</td>\n",
              "      <td>Everyone</td>\n",
              "      <td>Art &amp; Design;Pretend Play</td>\n",
              "      <td>January 15, 2018</td>\n",
              "      <td>2.0.0</td>\n",
              "      <td>4.0.3 and up</td>\n",
              "    </tr>\n",
              "    <tr>\n",
              "      <th>2</th>\n",
              "      <td>U Launcher Lite – FREE Live Cool Themes, Hide ...</td>\n",
              "      <td>ART_AND_DESIGN</td>\n",
              "      <td>4.7</td>\n",
              "      <td>87510</td>\n",
              "      <td>8.7</td>\n",
              "      <td>5000000</td>\n",
              "      <td>Free</td>\n",
              "      <td>0</td>\n",
              "      <td>Everyone</td>\n",
              "      <td>Art &amp; Design</td>\n",
              "      <td>August 1, 2018</td>\n",
              "      <td>1.2.4</td>\n",
              "      <td>4.0.3 and up</td>\n",
              "    </tr>\n",
              "  </tbody>\n",
              "</table>\n",
              "</div>\n",
              "      <button class=\"colab-df-convert\" onclick=\"convertToInteractive('df-e375076a-3556-4f3d-9e61-6bab78d59598')\"\n",
              "              title=\"Convert this dataframe to an interactive table.\"\n",
              "              style=\"display:none;\">\n",
              "        \n",
              "  <svg xmlns=\"http://www.w3.org/2000/svg\" height=\"24px\"viewBox=\"0 0 24 24\"\n",
              "       width=\"24px\">\n",
              "    <path d=\"M0 0h24v24H0V0z\" fill=\"none\"/>\n",
              "    <path d=\"M18.56 5.44l.94 2.06.94-2.06 2.06-.94-2.06-.94-.94-2.06-.94 2.06-2.06.94zm-11 1L8.5 8.5l.94-2.06 2.06-.94-2.06-.94L8.5 2.5l-.94 2.06-2.06.94zm10 10l.94 2.06.94-2.06 2.06-.94-2.06-.94-.94-2.06-.94 2.06-2.06.94z\"/><path d=\"M17.41 7.96l-1.37-1.37c-.4-.4-.92-.59-1.43-.59-.52 0-1.04.2-1.43.59L10.3 9.45l-7.72 7.72c-.78.78-.78 2.05 0 2.83L4 21.41c.39.39.9.59 1.41.59.51 0 1.02-.2 1.41-.59l7.78-7.78 2.81-2.81c.8-.78.8-2.07 0-2.86zM5.41 20L4 18.59l7.72-7.72 1.47 1.35L5.41 20z\"/>\n",
              "  </svg>\n",
              "      </button>\n",
              "      \n",
              "  <style>\n",
              "    .colab-df-container {\n",
              "      display:flex;\n",
              "      flex-wrap:wrap;\n",
              "      gap: 12px;\n",
              "    }\n",
              "\n",
              "    .colab-df-convert {\n",
              "      background-color: #E8F0FE;\n",
              "      border: none;\n",
              "      border-radius: 50%;\n",
              "      cursor: pointer;\n",
              "      display: none;\n",
              "      fill: #1967D2;\n",
              "      height: 32px;\n",
              "      padding: 0 0 0 0;\n",
              "      width: 32px;\n",
              "    }\n",
              "\n",
              "    .colab-df-convert:hover {\n",
              "      background-color: #E2EBFA;\n",
              "      box-shadow: 0px 1px 2px rgba(60, 64, 67, 0.3), 0px 1px 3px 1px rgba(60, 64, 67, 0.15);\n",
              "      fill: #174EA6;\n",
              "    }\n",
              "\n",
              "    [theme=dark] .colab-df-convert {\n",
              "      background-color: #3B4455;\n",
              "      fill: #D2E3FC;\n",
              "    }\n",
              "\n",
              "    [theme=dark] .colab-df-convert:hover {\n",
              "      background-color: #434B5C;\n",
              "      box-shadow: 0px 1px 3px 1px rgba(0, 0, 0, 0.15);\n",
              "      filter: drop-shadow(0px 1px 2px rgba(0, 0, 0, 0.3));\n",
              "      fill: #FFFFFF;\n",
              "    }\n",
              "  </style>\n",
              "\n",
              "      <script>\n",
              "        const buttonEl =\n",
              "          document.querySelector('#df-e375076a-3556-4f3d-9e61-6bab78d59598 button.colab-df-convert');\n",
              "        buttonEl.style.display =\n",
              "          google.colab.kernel.accessAllowed ? 'block' : 'none';\n",
              "\n",
              "        async function convertToInteractive(key) {\n",
              "          const element = document.querySelector('#df-e375076a-3556-4f3d-9e61-6bab78d59598');\n",
              "          const dataTable =\n",
              "            await google.colab.kernel.invokeFunction('convertToInteractive',\n",
              "                                                     [key], {});\n",
              "          if (!dataTable) return;\n",
              "\n",
              "          const docLinkHtml = 'Like what you see? Visit the ' +\n",
              "            '<a target=\"_blank\" href=https://colab.research.google.com/notebooks/data_table.ipynb>data table notebook</a>'\n",
              "            + ' to learn more about interactive tables.';\n",
              "          element.innerHTML = '';\n",
              "          dataTable['output_type'] = 'display_data';\n",
              "          await google.colab.output.renderOutput(dataTable, element);\n",
              "          const docLink = document.createElement('div');\n",
              "          docLink.innerHTML = docLinkHtml;\n",
              "          element.appendChild(docLink);\n",
              "        }\n",
              "      </script>\n",
              "    </div>\n",
              "  </div>\n",
              "  "
            ]
          },
          "metadata": {},
          "execution_count": 60
        }
      ]
    },
    {
      "cell_type": "markdown",
      "source": [
        "### Changing the datatypes of all the columns which had to be of Numerical type but present as string for numerical evaluations.\n",
        "*   The challenge will be to convert the columns ['Installs','Price']\n",
        "into 'float type'\n",
        "\n",
        "> To acheive this we simply use the advantages of astype()\n",
        "\n",
        "\n",
        "\n",
        "\n",
        "\n",
        "\n",
        "\n",
        "\n",
        "\n",
        "\n",
        "\n",
        "\n",
        "\n",
        "\n",
        "\n",
        "\n",
        "\n",
        "\n",
        "\n",
        "\n"
      ],
      "metadata": {
        "id": "hkhTs-JWxlwa"
      }
    },
    {
      "cell_type": "code",
      "source": [
        "# Following steps explained above:\n",
        "\n",
        "df_apps['Installs'] = df_apps['Installs'].astype(float)\n",
        "df_apps['Price'] = df_apps['Price'].astype(float)"
      ],
      "metadata": {
        "id": "RyzwsqX-yUDG"
      },
      "execution_count": null,
      "outputs": []
    },
    {
      "cell_type": "code",
      "source": [
        "df_apps.info()"
      ],
      "metadata": {
        "colab": {
          "base_uri": "https://localhost:8080/"
        },
        "id": "NFb0JKM2TiUc",
        "outputId": "75c27fca-db5c-44bf-e32b-8889c171a1c1"
      },
      "execution_count": null,
      "outputs": [
        {
          "output_type": "stream",
          "name": "stdout",
          "text": [
            "<class 'pandas.core.frame.DataFrame'>\n",
            "Int64Index: 10840 entries, 0 to 10840\n",
            "Data columns (total 13 columns):\n",
            " #   Column          Non-Null Count  Dtype  \n",
            "---  ------          --------------  -----  \n",
            " 0   App             10840 non-null  object \n",
            " 1   Category        10840 non-null  object \n",
            " 2   Rating          9366 non-null   float64\n",
            " 3   Reviews         10840 non-null  object \n",
            " 4   Size            10840 non-null  object \n",
            " 5   Installs        10840 non-null  float64\n",
            " 6   Type            10839 non-null  object \n",
            " 7   Price           10840 non-null  float64\n",
            " 8   Content Rating  10840 non-null  object \n",
            " 9   Genres          10840 non-null  object \n",
            " 10  Last Updated    10840 non-null  object \n",
            " 11  Current Ver     10832 non-null  object \n",
            " 12  Android Ver     10838 non-null  object \n",
            "dtypes: float64(3), object(10)\n",
            "memory usage: 1.2+ MB\n"
          ]
        }
      ]
    },
    {
      "cell_type": "markdown",
      "source": [
        "## 3. First Observation"
      ],
      "metadata": {
        "id": "eQl28LiieCEl"
      }
    },
    {
      "cell_type": "markdown",
      "source": [
        "Understanding the trend : Using Highest and Lowest values.\n",
        "\n",
        "> Benifits of determining trend??\n",
        "\n",
        "* Trend analysis allow to predict what's going to happen, based on whats already happend. It provides business with the information enabling to make data driven decisions with regards to future events. \n",
        "\n",
        "\n",
        "\n",
        "\n",
        "\n"
      ],
      "metadata": {
        "id": "yu8TkquHfjwl"
      }
    },
    {
      "cell_type": "markdown",
      "source": [
        "Based on the dataset we are first determining which Category has the highest impact in the world and which categoey is struggling to get the path."
      ],
      "metadata": {
        "id": "jSC5SE8aiZVM"
      }
    },
    {
      "cell_type": "code",
      "source": [
        "# Ploting the barplot for Category column\n",
        "\n",
        "trend_cat = df_apps['Category'].value_counts()\n",
        "\n",
        "trends = trend_cat.plot.bar(figsize= (10,5) , linewidth = 1 , edgecolor = 'black')\n",
        "trends.set_title('The current Trend',fontsize = 15)\n",
        "trends.set_xlabel('Categories ------->',fontsize =12)\n",
        "trends.set_ylabel('Popularity ------->',fontsize =12)\n",
        "plt.show()\n"
      ],
      "metadata": {
        "colab": {
          "base_uri": "https://localhost:8080/",
          "height": 471
        },
        "id": "0OumqgHZi7XC",
        "outputId": "cdec17da-fc62-4455-e867-9940e139f19f"
      },
      "execution_count": null,
      "outputs": [
        {
          "output_type": "display_data",
          "data": {
            "text/plain": [
              "<Figure size 720x360 with 1 Axes>"
            ],
            "image/png": "[encoded data removed]"
          },
          "metadata": {
            "needs_background": "light"
          }
        }
      ]
    },
    {
      "cell_type": "markdown",
      "source": [
        "\n",
        "\n",
        "1.   Intresting results, but somewhat expected that Family and Game are ruling at the top.\n",
        "2.   Any idea regarding Beauty and comics?? I think it requires Proactivity and Anticipations..\n",
        "\n",
        "> Fine!! Data Analysis helped in improving our decision making process significantly.\n",
        "\n",
        "\n",
        "\n"
      ],
      "metadata": {
        "id": "Awqg4IAMorHS"
      }
    },
    {
      "cell_type": "code",
      "source": [],
      "metadata": {
        "id": "LH_I0EEtsZlQ"
      },
      "execution_count": null,
      "outputs": []
    }
  ]
}